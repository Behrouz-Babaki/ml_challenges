{
 "metadata": {
  "name": "",
  "signature": "sha256:e21fb41b15d3ed9ad5c10200f992413fd3d3c3cca35d98209856b29108169339"
 },
 "nbformat": 3,
 "nbformat_minor": 0,
 "worksheets": [
  {
   "cells": [
    {
     "cell_type": "code",
     "collapsed": false,
     "input": [
      "import numpy as np\n",
      "import pandas as pd\n",
      "from sklearn.ensemble import RandomForestRegressor\n",
      "\n",
      "def get_features(data):\n",
      "    return data[['season',\n",
      "                 'holiday',\n",
      "                 'workingday',\n",
      "                 'weather',\n",
      "                 'temp',\n",
      "                 'atemp',\n",
      "                 'humidity',\n",
      "                 'windspeed']]\n",
      "\n",
      "def update_df(data):\n",
      "    dt = pd.DatetimeIndex(data['datetime'])\n",
      "    data['hour'] = dt.hour\n",
      "    data['month'] = dt.month\n",
      "    data['weekday'] = dt.weekday\n"
     ],
     "language": "python",
     "metadata": {},
     "outputs": [],
     "prompt_number": 2
    },
    {
     "cell_type": "code",
     "collapsed": false,
     "input": [
      "train = pd.read_csv('../train.csv', parse_dates=['datetime'])\n",
      "test = pd.read_csv('../test.csv', parse_dates=['datetime'])\n",
      "update_df(train)\n",
      "update_df(test)\n",
      "\n",
      "#print 'datetime,count'\n",
      "results = pd.DataFrame(columns=['datetime', 'count'])\n",
      "for hour , test_subset in test.groupby('hour'):\n",
      "    train_subset = train[train['hour']==hour]\n",
      "    model = RandomForestRegressor(n_estimators=100)\n",
      "    model.fit(np.array(get_features(train_subset)), np.array(train_subset['count']))\n",
      "    predictions = np.array(model.predict(np.array(get_features(test_subset))))\n",
      "    dt = test_subset['datetime']\n",
      "    predictions = pd.Series(predictions, index=dt.index)\n",
      "    res = pd.concat([dt, predictions], axis=1)\n",
      "    res.columns=['datetime', 'count']\n",
      "    results = pd.concat([results, res])\n",
      "    \n",
      "results['count'] = results['count'].astype('int64')\n",
      "results = results.sort('datetime')\n",
      "\n",
      "results.to_csv('../submissions/fifthSubmission.csv', index=False)"
     ],
     "language": "python",
     "metadata": {},
     "outputs": [
      {
       "output_type": "stream",
       "stream": "stdout",
       "text": [
        "datetime    datetime64[ns]\n",
        "count                int64\n",
        "dtype: object\n"
       ]
      }
     ],
     "prompt_number": 63
    },
    {
     "cell_type": "code",
     "collapsed": false,
     "input": [
      "x = [1, 2, 3]\n",
      "x = pd.DataFrame(x)\n",
      "y = [3, 4, 5]\n",
      "y = pd.DataFrame(y)\n",
      "pd.concat([x,y], axis=1)"
     ],
     "language": "python",
     "metadata": {},
     "outputs": [
      {
       "html": [
        "<div style=\"max-height:1000px;max-width:1500px;overflow:auto;\">\n",
        "<table border=\"1\" class=\"dataframe\">\n",
        "  <thead>\n",
        "    <tr style=\"text-align: right;\">\n",
        "      <th></th>\n",
        "      <th>0</th>\n",
        "      <th>0</th>\n",
        "    </tr>\n",
        "  </thead>\n",
        "  <tbody>\n",
        "    <tr>\n",
        "      <th>0</th>\n",
        "      <td>1</td>\n",
        "      <td>3</td>\n",
        "    </tr>\n",
        "    <tr>\n",
        "      <th>1</th>\n",
        "      <td>2</td>\n",
        "      <td>4</td>\n",
        "    </tr>\n",
        "    <tr>\n",
        "      <th>2</th>\n",
        "      <td>3</td>\n",
        "      <td>5</td>\n",
        "    </tr>\n",
        "  </tbody>\n",
        "</table>\n",
        "</div>"
       ],
       "metadata": {},
       "output_type": "pyout",
       "prompt_number": 20,
       "text": [
        "   0  0\n",
        "0  1  3\n",
        "1  2  4\n",
        "2  3  5"
       ]
      }
     ],
     "prompt_number": 20
    }
   ],
   "metadata": {}
  }
 ]
}