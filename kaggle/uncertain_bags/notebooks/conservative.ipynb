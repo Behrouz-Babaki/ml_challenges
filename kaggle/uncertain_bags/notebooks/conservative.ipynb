{
 "cells": [
  {
   "cell_type": "code",
   "execution_count": null,
   "metadata": {
    "collapsed": false
   },
   "outputs": [],
   "source": [
    "import numpy as np\n",
    "import pandas as pd"
   ]
  },
  {
   "cell_type": "code",
   "execution_count": null,
   "metadata": {
    "collapsed": false
   },
   "outputs": [],
   "source": [
    "gcounts = dict()\n",
    "with open('../data/gifts.csv') as f:\n",
    "    f.readline()\n",
    "    for line in f: \n",
    "        if '_' in line:\n",
    "            line = line.strip().split('_')\n",
    "            gtype = line[0]\n",
    "            gnum = int(line[1])\n",
    "            current_count = gcounts.get(gtype, 0)\n",
    "            assert (gnum == current_count)\n",
    "            gcounts[gtype] = current_count + 1"
   ]
  },
  {
   "cell_type": "code",
   "execution_count": null,
   "metadata": {
    "collapsed": false,
    "scrolled": true
   },
   "outputs": [],
   "source": [
    "gcounts"
   ]
  },
  {
   "cell_type": "code",
   "execution_count": null,
   "metadata": {
    "collapsed": false
   },
   "outputs": [],
   "source": [
    "dist = dict()\n",
    "dist['horse'] = max(0, np.random.normal(5,2,1)[0])\n",
    "dist['ball'] = max(0, 1 + np.random.normal(1,0.3,1)[0])\n",
    "dist['bike'] = max(0, np.random.normal(20,10,1)[0])\n",
    "dist['train'] = max(0, np.random.normal(10,5,1)[0])\n",
    "dist['coal'] = 47 * np.random.beta(0.5,0.5,1)[0]\n",
    "dist['book'] = np.random.chisquare(2,1)[0]\n",
    "dist['doll'] = np.random.gamma(5,1,1)[0]\n",
    "dist['blocks'] = np.random.triangular(5,10,20,1)[0]\n",
    "dist['gloves'] = 3.0 + np.random.rand(1)[0] if np.random.rand(1) < 0.3 else np.random.rand(1)[0]"
   ]
  },
  {
   "cell_type": "code",
   "execution_count": null,
   "metadata": {
    "collapsed": true
   },
   "outputs": [],
   "source": [
    "def get_weights(confidence):\n",
    "    pass"
   ]
  },
  {
   "cell_type": "code",
   "execution_count": null,
   "metadata": {
    "collapsed": false
   },
   "outputs": [],
   "source": [
    "# temporarily\n",
    "gweights = dist"
   ]
  },
  {
   "cell_type": "code",
   "execution_count": null,
   "metadata": {
    "collapsed": false
   },
   "outputs": [],
   "source": [
    "from gurobipy import Model, GRB, quicksum, LinExpr\n",
    "model = Model('packing')\n",
    "model.params.UpdateMode = 1\n",
    "items = list(gweights.keys())\n",
    "\n",
    "# find the upper bounds\n",
    "ubs = dict()\n",
    "for item, weight in gweights.items():\n",
    "    ubs[item] = 50 // weight\n",
    "    \n",
    "vars = dict()\n",
    "# define the variables\n",
    "for i in range(1000):\n",
    "    for item in items:\n",
    "        vars[(i, item)] = model.addVar(lb=0.0, ub=ubs[item], vtype=GRB.INTEGER)\n",
    "        \n",
    "# constraint: at lest three items in each bag\n",
    "for i in range(1000):\n",
    "    model.addConstr(quicksum([vars[(i, item)] for item in items]) >= 3)\n",
    "\n",
    "# constraint: weight of each bag less than 50\n",
    "for i in range(1000):\n",
    "    model.addConstr(LinExpr([gweights[item] for item in items], [vars[(i, item)] for item in items]) <= 50)\n",
    "    \n",
    "# constraint: no more gifts packed than available\n",
    "for item in items:\n",
    "    model.addConstr(quicksum([vars[(i, item)] for i in range(1000)]) <= gcounts[item])\n",
    "\n",
    "# objective function\n",
    "model.setObjective(LinExpr([gweights[item] for item in items for i in range(1000)],\n",
    "                           [vars[(i, item)] for item in items for i in range(1000)]), GRB.MAXIMIZE)\n",
    "\n",
    "model.update()\n",
    "model.optimize()"
   ]
  }
 ],
 "metadata": {
  "kernelspec": {
   "display_name": "Python 3.5",
   "language": "python",
   "name": "python3.5"
  },
  "language_info": {
   "codemirror_mode": {
    "name": "ipython",
    "version": 3
   },
   "file_extension": ".py",
   "mimetype": "text/x-python",
   "name": "python",
   "nbconvert_exporter": "python",
   "pygments_lexer": "ipython3",
   "version": "3.5.2"
  }
 },
 "nbformat": 4,
 "nbformat_minor": 0
}
