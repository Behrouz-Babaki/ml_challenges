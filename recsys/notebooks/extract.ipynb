{
 "metadata": {
  "name": "",
  "signature": "sha256:01a0513c8cdb5a29ba9b924a2138bd2cb772141345a6894d8a04df746ae991d6"
 },
 "nbformat": 3,
 "nbformat_minor": 0,
 "worksheets": [
  {
   "cells": [
    {
     "cell_type": "code",
     "collapsed": false,
     "input": [
      "x = 'XYZ'\n",
      "x.encode('utf8')"
     ],
     "language": "python",
     "metadata": {},
     "outputs": [
      {
       "metadata": {},
       "output_type": "pyout",
       "prompt_number": 1,
       "text": [
        "'XYZ'"
       ]
      }
     ],
     "prompt_number": 1
    },
    {
     "cell_type": "code",
     "collapsed": false,
     "input": [
      "S = 'A\\xC4B\\xE8C'\n",
      "for i in S:\n",
      "    print hex(ord(i)),\n",
      "print type(S)\n",
      "A = S.decode('latin-1')\n",
      "for i in A:\n",
      "    print ord(i),\n",
      "print \n",
      "A = A.encode('utf8')\n",
      "for i in A:\n",
      "    print ord(i),"
     ],
     "language": "python",
     "metadata": {},
     "outputs": [
      {
       "output_type": "stream",
       "stream": "stdout",
       "text": [
        "0x41 0xc4 0x42 0xe8 0x43 <type 'str'>\n",
        "65 196 66 232 67\n",
        "65 195 132 66 195 168 67\n"
       ]
      }
     ],
     "prompt_number": 53
    },
    {
     "cell_type": "code",
     "collapsed": false,
     "input": [
      "import sys\n",
      "print sys.platform\n",
      "print sys.getdefaultencoding()"
     ],
     "language": "python",
     "metadata": {},
     "outputs": [
      {
       "output_type": "stream",
       "stream": "stdout",
       "text": [
        "linux2\n",
        "ascii\n"
       ]
      }
     ],
     "prompt_number": 60
    },
    {
     "cell_type": "code",
     "collapsed": false,
     "input": [
      "from __future__ import print_function\n",
      "def readbytes(filename, chunksize=8192):\n",
      "    with open(filename, 'rb') as f:\n",
      "        while True:\n",
      "            chunk = f.read(chunksize)\n",
      "            if chunk:\n",
      "                for bt in chunk:\n",
      "                    yield bt\n",
      "            else:\n",
      "                return\n",
      "                \n",
      "            \n",
      "\n",
      "filename = '../data/items_books.dat'\n",
      "cnt = 1\n",
      "for bt in readbytes(filename):\n",
      "    if bt == '\\n':\n",
      "        print ()\n",
      "        cnt += 1\n",
      "    else:\n",
      "        print (bt.decode('latin-1'),end='') \n",
      "print (cnt)"
     ],
     "language": "python",
     "metadata": {},
     "outputs": [],
     "prompt_number": 75
    },
    {
     "cell_type": "code",
     "collapsed": false,
     "input": [
      "ord(bt.decode('latin-1').encode('utf8'))"
     ],
     "language": "python",
     "metadata": {},
     "outputs": [
      {
       "metadata": {},
       "output_type": "pyout",
       "prompt_number": 79,
       "text": [
        "10"
       ]
      }
     ],
     "prompt_number": 79
    },
    {
     "cell_type": "code",
     "collapsed": false,
     "input": [
      "import urlparse\n",
      "import urllib\n",
      "\n",
      "def fixurl(url):\n",
      "    # turn string into unicode\n",
      "    if not isinstance(url,unicode):\n",
      "        url = url.decode('utf8')\n",
      "\n",
      "    # parse it\n",
      "    parsed = urlparse.urlsplit(url)\n",
      "\n",
      "    # divide the netloc further\n",
      "    userpass,at,hostport = parsed.netloc.rpartition('@')\n",
      "    user,colon1,pass_ = userpass.partition(':')\n",
      "    host,colon2,port = hostport.partition(':')\n",
      "\n",
      "    # encode each component\n",
      "    scheme = parsed.scheme.encode('utf8')\n",
      "    user = urllib.quote(user.encode('utf8'))\n",
      "    colon1 = colon1.encode('utf8')\n",
      "    pass_ = urllib.quote(pass_.encode('utf8'))\n",
      "    at = at.encode('utf8')\n",
      "    host = host.encode('idna')\n",
      "    colon2 = colon2.encode('utf8')\n",
      "    port = port.encode('utf8')\n",
      "    path = '/'.join(  # could be encoded slashes!\n",
      "        urllib.quote(urllib.unquote(pce).encode('utf8'),'')\n",
      "        for pce in parsed.path.split('/')\n",
      "    )\n",
      "    query = urllib.quote(urllib.unquote(parsed.query).encode('utf8'),'=&?/')\n",
      "    fragment = urllib.quote(urllib.unquote(parsed.fragment).encode('utf8'))\n",
      "\n",
      "    # put it back together\n",
      "    netloc = ''.join((user,colon1,pass_,at,host,colon2,port))\n",
      "    return urlparse.urlunsplit((scheme,netloc,path,query,fragment))"
     ],
     "language": "python",
     "metadata": {},
     "outputs": [],
     "prompt_number": 33
    },
    {
     "cell_type": "code",
     "collapsed": false,
     "input": [
      "from langdetect import detect\n",
      "from rdflib.term import URIRef\n",
      "from time import sleep\n",
      "import urllib2\n",
      "import rdflib\n",
      "\n",
      "filename = './../data/items_books.dat'\n",
      "problematic = ['http://dbpedia.org/resource/The_Adventures_of_Tintin']\n",
      "\n",
      "books = []\n",
      "with open(filename, 'r') as f:\n",
      "    f.readline()\n",
      "    for line in f:\n",
      "        id_, type_ , entity_ = line.strip().split()\n",
      "        if type_ == 'book':\n",
      "            title = entity_.decode('latin-1').encode('utf-8')\n",
      "            if not title in problematic:\n",
      "                books.append((id_, title))\n",
      "            \n",
      "def get_info(book):\n",
      "    id = book[0]\n",
      "    url = book[1]\n",
      "    g = rdflib.Graph()\n",
      "    print (fixurl(url))\n",
      "    done = False\n",
      "    while not done:\n",
      "        try:\n",
      "            result = g.parse(fixurl(url))\n",
      "        except urllib2.HTTPError:\n",
      "            sleep(0.5)\n",
      "        else:\n",
      "            authors = None\n",
      "            genres = None\n",
      "            abstracts = None            \n",
      "            authors = [author for author in g.objects(URIRef(url), URIRef(u'http://dbpedia.org/property/author'))]\n",
      "            genres = [genre for genre in g.objects(URIRef(url), URIRef(u'http://dbpedia.org/property/genre'))]\n",
      "            abstracts = [abstract for abstract in g.objects(URIRef(url), URIRef(u'http://dbpedia.org/ontology/abstract'))]\n",
      "#                          if len(abstract) > 10 and detect(unicode(abstract))=='en']\n",
      "#             abstract = None\n",
      "#             if len(abstracts) > 0:\n",
      "#                 abstract = abstracts[0]\n",
      "            done = True\n",
      "\n",
      "    return (authors, genres, abstracts)\n",
      "\n",
      "\n",
      "all_info = []\n",
      "for i in range(5):\n",
      "    book = books[i]\n",
      "    book_info = dict()\n",
      "    info = get_info(book)\n",
      "    book_info['id'] = book[0]\n",
      "    book_info['url'] = book[1]\n",
      "    book_info['authors'] = info[0]\n",
      "    book_info['genres'] = info[1]\n",
      "    book_info['abstracts'] = info[2]\n",
      "    all_info.append(book_info)\n",
      "    \n",
      "for info in all_info:\n",
      "    print ('book author:')\n",
      "    print (info['authors'])\n",
      "    if len(info['authors']) > 0:\n",
      "        print (type((info['authors'][0]).n3()))\n",
      "        print (type(info['authors'][0]))\n"
     ],
     "language": "python",
     "metadata": {},
     "outputs": [
      {
       "output_type": "stream",
       "stream": "stdout",
       "text": [
        "http://dbpedia.org/resource/Harry_Potter\n",
        "http://dbpedia.org/resource/Twilight_%28series%29"
       ]
      },
      {
       "output_type": "stream",
       "stream": "stdout",
       "text": [
        "\n",
        "http://dbpedia.org/resource/Bible"
       ]
      },
      {
       "output_type": "stream",
       "stream": "stdout",
       "text": [
        "\n",
        "http://dbpedia.org/resource/Manga"
       ]
      },
      {
       "output_type": "stream",
       "stream": "stdout",
       "text": [
        "\n",
        "http://dbpedia.org/resource/The_Lord_of_the_Rings"
       ]
      },
      {
       "output_type": "stream",
       "stream": "stdout",
       "text": [
        "\n",
        "book author:"
       ]
      },
      {
       "output_type": "stream",
       "stream": "stdout",
       "text": [
        "\n",
        "[rdflib.term.URIRef(u'http://dbpedia.org/resource/J._K._Rowling')]\n",
        "<type 'unicode'>\n",
        "<class 'rdflib.term.URIRef'>\n",
        "book author:\n",
        "[]\n",
        "book author:\n",
        "[]\n",
        "book author:\n",
        "[]\n",
        "book author:\n",
        "[rdflib.term.URIRef(u'http://dbpedia.org/resource/J._R._R._Tolkien')]\n",
        "<type 'unicode'>\n",
        "<class 'rdflib.term.URIRef'>\n"
       ]
      }
     ],
     "prompt_number": 16
    },
    {
     "cell_type": "code",
     "collapsed": false,
     "input": [
      "import rdflib\n",
      "book_name = 'http://dbpedia.org/resource/One_Hundred_Years_of_Solitude'\n",
      "authors, genres, abstracts = get_info((0, book_name))\n",
      "print (type(authors[0]))\n",
      "# print genres"
     ],
     "language": "python",
     "metadata": {},
     "outputs": [
      {
       "output_type": "stream",
       "stream": "stdout",
       "text": [
        "http://dbpedia.org/resource/One_Hundred_Years_of_Solitude\n",
        "<class 'rdflib.term.URIRef'>"
       ]
      },
      {
       "output_type": "stream",
       "stream": "stdout",
       "text": [
        "\n"
       ]
      }
     ],
     "prompt_number": 106
    },
    {
     "cell_type": "code",
     "collapsed": false,
     "input": [
      "print (authors[0].__hash__())"
     ],
     "language": "python",
     "metadata": {},
     "outputs": [
      {
       "output_type": "stream",
       "stream": "stdout",
       "text": [
        "4273968234573279095\n"
       ]
      }
     ],
     "prompt_number": 113
    },
    {
     "cell_type": "code",
     "collapsed": false,
     "input": [
      "nn = rdflib.term.URIRef(fixurl(u'http://dbpedia.org/resource/Gabriel_Garc\u00eda_M\u00e1rquez'))\n",
      "print (nn.n3())\n",
      "nnsafe = rdflib.term.URIRef(u'http://dbpedia.org/resource/Gabriel_Garc%C3%ADa_M%C3%A1rquez')\n",
      "print (nn == authors[0])\n",
      "print(nnsafe.n3())\n",
      "print(authors[0])"
     ],
     "language": "python",
     "metadata": {},
     "outputs": [
      {
       "output_type": "stream",
       "stream": "stdout",
       "text": [
        "<http://dbpedia.org/resource/Gabriel_Garc%C3%ADa_M%C3%A1rquez>\n",
        "True\n",
        "<http://dbpedia.org/resource/Gabriel_Garc%C3%ADa_M%C3%A1rquez>\n",
        "http://dbpedia.org/resource/Gabriel_Garc%C3%ADa_M%C3%A1rquez\n"
       ]
      }
     ],
     "prompt_number": 141
    },
    {
     "cell_type": "code",
     "collapsed": false,
     "input": [
      "ss = 'Gabriel Garc\u00eda M\u00e1rquez'\n",
      "print (type(ss))\n",
      "bts = ss.decode('utf8').encode('utf8')\n",
      "for bt in bts:\n",
      "    print (ord(bt),end=' ')"
     ],
     "language": "python",
     "metadata": {},
     "outputs": [
      {
       "output_type": "stream",
       "stream": "stdout",
       "text": [
        "<type 'str'>\n",
        "71 97 98 114 105 101 108 32 71 97 114 99 195 173 97 32 77 195 161 114 113 117 101 122 "
       ]
      }
     ],
     "prompt_number": 129
    },
    {
     "cell_type": "code",
     "collapsed": false,
     "input": [
      "import pickle\n",
      "all_info = pickle.load(open('./all.pkl', 'rb'))"
     ],
     "language": "python",
     "metadata": {},
     "outputs": [],
     "prompt_number": 2
    },
    {
     "cell_type": "code",
     "collapsed": false,
     "input": [
      "from __future__ import print_function"
     ],
     "language": "python",
     "metadata": {},
     "outputs": [],
     "prompt_number": 3
    },
    {
     "cell_type": "code",
     "collapsed": false,
     "input": [
      "from django.core.validators import URLValidator\n",
      "from django.core.exceptions import ValidationError\n",
      "import rdflib\n",
      "\n",
      "authors = set()\n",
      "authors.clear()\n",
      "rest = set()\n",
      "rest.clear()\n",
      "val = URLValidator()\n",
      "\n",
      "for book_info in all_info:\n",
      "    for author in book_info['authors']:\n",
      "        try:\n",
      "            val(author)\n",
      "            uri = rdflib.term.URIRef(author)\n",
      "            authors.add(fixurl(uri))\n",
      "        except:\n",
      "            rest.add(author)"
     ],
     "language": "python",
     "metadata": {},
     "outputs": [],
     "prompt_number": 34
    },
    {
     "cell_type": "code",
     "collapsed": false,
     "input": [
      "print (rest)"
     ],
     "language": "python",
     "metadata": {},
     "outputs": [
      {
       "output_type": "stream",
       "stream": "stdout",
       "text": [
        "set([u'Mark Twain', u'H. P. Lovecraft & Divers Hands', u'General Mills staff', u'Neil Strauss', u'Unknown', u'Alex S\\xe1nchez', u'Kouta Hirano', u'Michael Baigent, Richard Leigh, and Henry Lincoln', u'Jasper Fforde', u'Nick Arnold; Phil Gates', u'Yvonne Woon', u'Multiple', u'Sonya Sones', u'Dan Senor and  Saul Singer', u'Kevin J. Anderson', u'T. Colin Campbell, Ph.D. and Thomas M. Campbell II, M.D.', u'Kate Morton', u'& Neil Gaiman', u'David Eddings and Leigh Eddings', u'Louisa May Alcott', u'Zizou Corder', u'Edward de Bono', u'Karl Marx and Friedrich Engels', u'Jonathan Kozol', u\"Julia Child with Alex Prud'homme\", u'Rory Freedman and Kim Barnouin', u'H. P. Lovecraft and Others', u'Laura Wiess', u'Miley Cyrus with Hilary Liftin', u'John C. Kirkland', u'Christopher Ryan,', u'edited by Jim Turner', u'A P J Abdul Kalam with arun tiwari', u'Kanako Shirai', u'William Strunk, Jr. and E.B. White', u'John Wyndham', u'Brigham Henry Roberts', u'Francine Rivers', u'Conn Iggulden and Hal Iggulden', u'Gregory Galloway', u'Tom Wolfe', u'edited by Ramsey Campbell', u'Chris Wooding', u'Robert Fulghum', u'Dalai Lama', u'Mikhail Bulgakov', u'Created by Cecily von Ziegesar', u'Paulo Coelho', u'Terry Trueman', u'Lois Lowry', u'Kami Garcia and Margaret Stohl', u'Avery Monsen and Jory John', u'Emma McLaughlin and Nicola Kraus', u'edited by Robert M. Price', u'The Freedom Writers with Erin Gruwell', u'Malcolm X with Alex Haley', u'Jinsei Kataoka', u'Mildred D. Taylor', u'Richard P. Feynman, Robert B. Leighton and Matthew Sands', u'Tanuja Desai Hidier', u'Vladimir Nabokov', u'Trudi Canavan', u'Various', u'Pittacus Lore, aka James Frey & Jobie Hughes', u'Ernest Holmes', u'Darren Shan', u'Dossie Easton, Catherine A. Liszt', u'Lawrence Ferlinghetti', u'Jodi Picoult', u'edited by Darrell Schweitzer', u'Mika', u'edited by John Sunseri and Thom Brannan', u'Randy Pausch with Jeffrey Zaslow', u'Libba Bray', u'Todd Burpo and Lynn Vincent', u'Frank B. Gilbreth, Jr., and Ernestine Gilbreth Carey', u'Kate Novak and Jeff Grubb', u'Tim LaHaye and Jerry B. Jenkins', u'Judy Blume', u'Ramchandra Guha\\n  Hindi Translation= Sushant Jha', u'Sarah Dessen', u'Neil Gaiman', u'Nicholas Sparks and Micah Sparks', u'edited by Ross E. Lockhart', u'Ann M. Martin, Laura Godwin', u'William L. Simon', u'edited by Stephen Mark Rainey', u'edited by Brian M. Sammons and David Conyers', u'Tom Siddell', u'Ian Caldwell and Dustin Thomason', u'Michael York', u'Steven Jay Schneider, general editor', u'Danny Wallace', u'edited by D. M. Mitchell', u'Leopold von Sacher-Masoch', u'Tana French', u'Derek Benz and J.S. Lewis', u'Jules Verne', u'Brom', u'Hobey Echlin', u'Miyuki Kobayashi', u'William Nicholson', u'Carrie Ryan', u'Jonathan Haidt', u'edited by John Pelan and Benjamin Adams', u'Ronald Reagan, edited by Douglas Brinkley', u'Cracked.com', u'edited by Thomas M. K. Stratman', u'Allen Carr', u'Robin Jones Gunn', u'Tori Spelling & Hilary Liftin', u'Jane Austen and', u'Rachel Hawkins', u'W.E.Burghardt Du Bois', u'Robert Jordan and Brandon Sanderson', u'Kanae Shimokawa', u'Garret Freyman-Weyr', u'S\\xf8ren Hansen, Jesper Jensen', u'John Brunner', u'Nikolay Yordanov and Valya Chervenyashka', u'Thomas M. Reid', u'David Kirkpatrick', u'Adam Smith', u'Isabel Allende', u'Stephen King under the name of Richard Bachman', u'(in collaboration with Auguste Maquet)', u'Tom Clancy', u'Ozzy Osbourne with Chris Ayres', u'Margaret Weis and Tracy Hickman', u'Kaori Ozaki', u'edited by Edward P. Berglund', u'Nicholas Sparks', u'Zadie Smith', u'John Heilemann and Mark Halperin', u'O.T. Nelson', u'Jake Wizner', u'P. C. Cast and Kristin Cast', u'Lynne Reid Banks', u'Robert Hagstrom', u'Thomas Foster', u'Cacilda Jeth\\xe1', u'Timothy Leary, Ralph Metzner and Richard Alpert', u'Jeff Grubb and Ed Greenwood', u'Tenzin Gyatso, 14th Dalai Lama and Howard Cutler', u'Simone Elkeles', u'Makoto Inoue', u'\"Anonymous\"', u'Ridley Pearson', u'Thomas Cathcart and Daniel Klein', u'Daniel Handler', u'Neal Shusterman', u'Karrine Steffans', u'Lesley Livingston', u'Robert Anton Wilson', u'edited by Christopher Tolkien', u'edited by August Derleth', u'Linda Holmen, Mary Santella-Johnson, Bill Watterson', u'Rabbi Shneur Zalman of Liadi, the first Rebbe of Chabad', u'Mark Laxer', u'W. Chan Kim and Ren\\xe9e Mauborgne', u'Masatoshi Kusakabe', u'Tohru Kai', u'Stephen Clarke', u'Kaoru Shizuka', u'Lisa See', u'Toujou Chika and Shigeru Morita', u'James Lincoln Collier and Christopher Collier', u'Torey L. Hayden', u'Francine Pascal', u'Richard Lee Byers', u'Og Mandino', u'M', u'Greg Mortenson and David Oliver Relin', u'Laurie Faria Stolarz', u'Alexander and Ann Shulgin', u'Carol Goodman', u', scribes.', u'Doug Richmond', u'Michael Pollan', u'Mary Alice Chrnalogar', u'James Patterson and Maxine Paetro', u'Chetan Bhagat', u'Anne Tyler', u'Scott Westerfeld', u'David Keirsey and', u'*Ren\\xe9 Goscinny\\n*Albert Uderzo\\n*Jean-Yves Ferri', u'Robert Tressell a.k.a. Noonan, born Croker', u'Mohammed Hanif', u'Starhawk', u'Jacqueline Mitchard', u'Jenna Jameson with Neil Strauss', u'Steve Martin', u'Chris Norris'])\n"
       ]
      }
     ],
     "prompt_number": 35
    },
    {
     "cell_type": "code",
     "collapsed": false,
     "input": [
      "def break_parts(parts, char):\n",
      "    for part in parts:\n",
      "        if char in part:\n",
      "            sub_parts = [pt.strip() for pt in part.split(char)]\n",
      "            parts.append(sub_parts)\n",
      "\n",
      "fixed_authors = []            \n",
      "for item in rest:\n",
      "    if '*' in item:\n",
      "        parts = item.split('*')\n",
      "#     elif ',' in item:\n",
      "#         parts = item.split(',')\n",
      "#     elif '/' in item:\n",
      "#         parts = item.split('/')\n",
      "#     elif ';' in item:\n",
      "#         parts = item.split(';')\n",
      "#     elif '.' in item:\n",
      "#         parts = item.split('.')\n",
      "    else:\n",
      "        parts = [item]\n",
      "    parts = [pt.replace('\\n', ' ') for pt in parts if pt!='']\n",
      "    parts = [pt.strip() for pt in parts if pt.strip()!='']\n",
      "    fixed_authors.append(parts)\n",
      "\n",
      "for fa in fixed_authors:\n",
      "    print (fa)\n",
      "# print(genres)"
     ],
     "language": "python",
     "metadata": {},
     "outputs": [
      {
       "output_type": "stream",
       "stream": "stdout",
       "text": [
        "[u'Mark Twain']\n",
        "[u'H. P. Lovecraft & Divers Hands']\n",
        "[u'General Mills staff']\n",
        "[u'Neil Strauss']\n",
        "[u'Unknown']\n",
        "[u'Alex S\\xe1nchez']\n",
        "[u'Kouta Hirano']\n",
        "[u'Michael Baigent, Richard Leigh, and Henry Lincoln']\n",
        "[u'Jasper Fforde']\n",
        "[u'Nick Arnold; Phil Gates']\n",
        "[u'Yvonne Woon']\n",
        "[u'Multiple']\n",
        "[u'Sonya Sones']\n",
        "[u'Dan Senor and  Saul Singer']\n",
        "[u'Kevin J. Anderson']\n",
        "[u'T. Colin Campbell, Ph.D. and Thomas M. Campbell II, M.D.']\n",
        "[u'Kate Morton']\n",
        "[u'& Neil Gaiman']\n",
        "[u'David Eddings and Leigh Eddings']\n",
        "[u'Louisa May Alcott']\n",
        "[u'Zizou Corder']\n",
        "[u'Edward de Bono']\n",
        "[u'Karl Marx and Friedrich Engels']\n",
        "[u'Jonathan Kozol']\n",
        "[u\"Julia Child with Alex Prud'homme\"]\n",
        "[u'Rory Freedman and Kim Barnouin']\n",
        "[u'H. P. Lovecraft and Others']\n",
        "[u'Laura Wiess']\n",
        "[u'Miley Cyrus with Hilary Liftin']\n",
        "[u'John C. Kirkland']\n",
        "[u'Christopher Ryan,']\n",
        "[u'edited by Jim Turner']\n",
        "[u'A P J Abdul Kalam with arun tiwari']\n",
        "[u'Kanako Shirai']\n",
        "[u'William Strunk, Jr. and E.B. White']\n",
        "[u'John Wyndham']\n",
        "[u'Brigham Henry Roberts']\n",
        "[u'Francine Rivers']\n",
        "[u'Conn Iggulden and Hal Iggulden']\n",
        "[u'Gregory Galloway']\n",
        "[u'Tom Wolfe']\n",
        "[u'edited by Ramsey Campbell']\n",
        "[u'Chris Wooding']\n",
        "[u'Robert Fulghum']\n",
        "[u'Dalai Lama']\n",
        "[u'Mikhail Bulgakov']\n",
        "[u'Created by Cecily von Ziegesar']\n",
        "[u'Paulo Coelho']\n",
        "[u'Terry Trueman']\n",
        "[u'Lois Lowry']\n",
        "[u'Kami Garcia and Margaret Stohl']\n",
        "[u'Avery Monsen and Jory John']\n",
        "[u'Emma McLaughlin and Nicola Kraus']\n",
        "[u'edited by Robert M. Price']\n",
        "[u'The Freedom Writers with Erin Gruwell']\n",
        "[u'Malcolm X with Alex Haley']\n",
        "[u'Jinsei Kataoka']\n",
        "[u'Mildred D. Taylor']\n",
        "[u'Richard P. Feynman, Robert B. Leighton and Matthew Sands']\n",
        "[u'Tanuja Desai Hidier']\n",
        "[u'Vladimir Nabokov']\n",
        "[u'Trudi Canavan']\n",
        "[u'Various']\n",
        "[u'Pittacus Lore, aka James Frey & Jobie Hughes']\n",
        "[u'Ernest Holmes']\n",
        "[u'Darren Shan']\n",
        "[u'Dossie Easton, Catherine A. Liszt']\n",
        "[u'Lawrence Ferlinghetti']\n",
        "[u'Jodi Picoult']\n",
        "[u'edited by Darrell Schweitzer']\n",
        "[u'Mika']\n",
        "[u'edited by John Sunseri and Thom Brannan']\n",
        "[u'Randy Pausch with Jeffrey Zaslow']\n",
        "[u'Libba Bray']\n",
        "[u'Todd Burpo and Lynn Vincent']\n",
        "[u'Frank B. Gilbreth, Jr., and Ernestine Gilbreth Carey']\n",
        "[u'Kate Novak and Jeff Grubb']\n",
        "[u'Tim LaHaye and Jerry B. Jenkins']\n",
        "[u'Judy Blume']\n",
        "[u'Ramchandra Guha   Hindi Translation= Sushant Jha']\n",
        "[u'Sarah Dessen']\n",
        "[u'Neil Gaiman']\n",
        "[u'Nicholas Sparks and Micah Sparks']\n",
        "[u'edited by Ross E. Lockhart']\n",
        "[u'Ann M. Martin, Laura Godwin']\n",
        "[u'William L. Simon']\n",
        "[u'edited by Stephen Mark Rainey']\n",
        "[u'edited by Brian M. Sammons and David Conyers']\n",
        "[u'Tom Siddell']\n",
        "[u'Ian Caldwell and Dustin Thomason']\n",
        "[u'Michael York']\n",
        "[u'Steven Jay Schneider, general editor']\n",
        "[u'Danny Wallace']\n",
        "[u'edited by D. M. Mitchell']\n",
        "[u'Leopold von Sacher-Masoch']\n",
        "[u'Tana French']\n",
        "[u'Derek Benz and J.S. Lewis']\n",
        "[u'Jules Verne']\n",
        "[u'Brom']\n",
        "[u'Hobey Echlin']\n",
        "[u'Miyuki Kobayashi']\n",
        "[u'William Nicholson']\n",
        "[u'Carrie Ryan']\n",
        "[u'Jonathan Haidt']\n",
        "[u'edited by John Pelan and Benjamin Adams']\n",
        "[u'Ronald Reagan, edited by Douglas Brinkley']\n",
        "[u'Cracked.com']\n",
        "[u'edited by Thomas M. K. Stratman']\n",
        "[u'Allen Carr']\n",
        "[u'Robin Jones Gunn']\n",
        "[u'Tori Spelling & Hilary Liftin']\n",
        "[u'Jane Austen and']\n",
        "[u'Rachel Hawkins']\n",
        "[u'W.E.Burghardt Du Bois']\n",
        "[u'Robert Jordan and Brandon Sanderson']\n",
        "[u'Kanae Shimokawa']\n",
        "[u'Garret Freyman-Weyr']\n",
        "[u'S\\xf8ren Hansen, Jesper Jensen']\n",
        "[u'John Brunner']\n",
        "[u'Nikolay Yordanov and Valya Chervenyashka']\n",
        "[u'Thomas M. Reid']\n",
        "[u'David Kirkpatrick']\n",
        "[u'Adam Smith']\n",
        "[u'Isabel Allende']\n",
        "[u'Stephen King under the name of Richard Bachman']\n",
        "[u'(in collaboration with Auguste Maquet)']\n",
        "[u'Tom Clancy']\n",
        "[u'Ozzy Osbourne with Chris Ayres']\n",
        "[u'Margaret Weis and Tracy Hickman']\n",
        "[u'Kaori Ozaki']\n",
        "[u'edited by Edward P. Berglund']\n",
        "[u'Nicholas Sparks']\n",
        "[u'Zadie Smith']\n",
        "[u'John Heilemann and Mark Halperin']\n",
        "[u'O.T. Nelson']\n",
        "[u'Jake Wizner']\n",
        "[u'P. C. Cast and Kristin Cast']\n",
        "[u'Lynne Reid Banks']\n",
        "[u'Robert Hagstrom']\n",
        "[u'Thomas Foster']\n",
        "[u'Cacilda Jeth\\xe1']\n",
        "[u'Timothy Leary, Ralph Metzner and Richard Alpert']\n",
        "[u'Jeff Grubb and Ed Greenwood']\n",
        "[u'Tenzin Gyatso, 14th Dalai Lama and Howard Cutler']\n",
        "[u'Simone Elkeles']\n",
        "[u'Makoto Inoue']\n",
        "[u'\"Anonymous\"']\n",
        "[u'Ridley Pearson']\n",
        "[u'Thomas Cathcart and Daniel Klein']\n",
        "[u'Daniel Handler']\n",
        "[u'Neal Shusterman']\n",
        "[u'Karrine Steffans']\n",
        "[u'Lesley Livingston']\n",
        "[u'Robert Anton Wilson']\n",
        "[u'edited by Christopher Tolkien']\n",
        "[u'edited by August Derleth']\n",
        "[u'Linda Holmen, Mary Santella-Johnson, Bill Watterson']\n",
        "[u'Rabbi Shneur Zalman of Liadi, the first Rebbe of Chabad']\n",
        "[u'Mark Laxer']\n",
        "[u'W. Chan Kim and Ren\\xe9e Mauborgne']\n",
        "[u'Masatoshi Kusakabe']\n",
        "[u'Tohru Kai']\n",
        "[u'Stephen Clarke']\n",
        "[u'Kaoru Shizuka']\n",
        "[u'Lisa See']\n",
        "[u'Toujou Chika and Shigeru Morita']\n",
        "[u'James Lincoln Collier and Christopher Collier']\n",
        "[u'Torey L. Hayden']\n",
        "[u'Francine Pascal']\n",
        "[u'Richard Lee Byers']\n",
        "[u'Og Mandino']\n",
        "[u'M']\n",
        "[u'Greg Mortenson and David Oliver Relin']\n",
        "[u'Laurie Faria Stolarz']\n",
        "[u'Alexander and Ann Shulgin']\n",
        "[u'Carol Goodman']\n",
        "[u', scribes.']\n",
        "[u'Doug Richmond']\n",
        "[u'Michael Pollan']\n",
        "[u'Mary Alice Chrnalogar']\n",
        "[u'James Patterson and Maxine Paetro']\n",
        "[u'Chetan Bhagat']\n",
        "[u'Anne Tyler']\n",
        "[u'Scott Westerfeld']\n",
        "[u'David Keirsey and']\n",
        "[u'Ren\\xe9 Goscinny', u'Albert Uderzo', u'Jean-Yves Ferri']\n",
        "[u'Robert Tressell a.k.a. Noonan, born Croker']\n",
        "[u'Mohammed Hanif']\n",
        "[u'Starhawk']\n",
        "[u'Jacqueline Mitchard']\n",
        "[u'Jenna Jameson with Neil Strauss']\n",
        "[u'Steve Martin']\n",
        "[u'Chris Norris']\n"
       ]
      }
     ],
     "prompt_number": 39
    },
    {
     "cell_type": "code",
     "collapsed": false,
     "input": [
      "final_genres = set()\n",
      "for fg in fixed_genres:\n",
      "    for genre in fg:\n",
      "        final_genres.add(genre)\n",
      "outfile = './r_genre.csv'\n",
      "cnt = 1\n",
      "with open(outfile, 'w') as f:\n",
      "    f.write('id,string\\n')\n",
      "    for genre in sorted(final_genres):\n",
      "        f.write('rg'+str(cnt)+','+genre+'\\n')\n",
      "        cnt += 1"
     ],
     "language": "python",
     "metadata": {},
     "outputs": [],
     "prompt_number": 62
    },
    {
     "cell_type": "code",
     "collapsed": false,
     "input": [
      "filename = '../data/items_books.dat'\n",
      "final_authors = set()\n",
      "with open(filename, 'r') as f:\n",
      "    f.readline()\n",
      "    for line in f:\n",
      "        [id_, type_, entity_] = line.strip().split()\n",
      "        if type_ == 'book_writer':\n",
      "            final_authors.add(fixurl(entity_.strip().decode('latin-1')))\n",
      "for author in authors:\n",
      "    final_authors.add(author)\n",
      "\n",
      "outfile = './u_authors.csv'\n",
      "cnt = 0\n",
      "with open(outfile, 'w') as f:\n",
      "    f.write('id,url\\n')\n",
      "    for author in sorted(final_authors):\n",
      "        f.write('au'+str(cnt)+','+author+'\\n')\n",
      "        cnt += 1"
     ],
     "language": "python",
     "metadata": {},
     "outputs": [],
     "prompt_number": 28
    },
    {
     "cell_type": "code",
     "collapsed": false,
     "input": [
      "outfile = './r_authors.csv'\n",
      "cnt = 0\n",
      "with open(outfile, 'wb') as f:\n",
      "    f.write('id,string\\n')\n",
      "    for author in sorted(fixed_authors):\n",
      "        f.write('rau'+str(cnt)+','+\"'\"+author[0].encode('utf8')+\"'\\n\")\n",
      "        cnt += 1"
     ],
     "language": "python",
     "metadata": {},
     "outputs": [],
     "prompt_number": 41
    },
    {
     "cell_type": "code",
     "collapsed": false,
     "input": [
      "final_books = set()\n",
      "for book_info in all_info:\n",
      "     final_books.add(fixurl(book_info['url']))\n",
      "\n",
      "with open('../data/items_books.dat') as f:\n",
      "    f.readline()\n",
      "    for line in f:\n",
      "        id_, type_, entity_ = line.strip().split()\n",
      "        if type_ == 'book':\n",
      "            final_books.add(fixurl((entity_).decode('latin-1')))\n",
      "\n",
      "outfile = './books.csv'\n",
      "cnt = 0\n",
      "with open(outfile, 'w') as f:\n",
      "    f.write('id,string\\n')\n",
      "    for book in sorted(final_books):\n",
      "        f.write('b'+str(cnt)+','+book+'\\n')\n",
      "        cnt += 1"
     ],
     "language": "python",
     "metadata": {},
     "outputs": [],
     "prompt_number": 43
    },
    {
     "cell_type": "raw",
     "metadata": {},
     "source": [
      "http://stackoverflow.com/q/29177555\n",
      "http://stackoverflow.com/q/29844918"
     ]
    },
    {
     "cell_type": "code",
     "collapsed": false,
     "input": [
      "filename = './books.csv'\n",
      "books = dict()\n",
      "with open(filename,'r') as f:\n",
      "    f.readline()\n",
      "    for line in f:\n",
      "        line = line.strip().split(',')\n",
      "        id_ = line[0]\n",
      "        url_= line[1]\n",
      "        books[url_] = id_\n",
      "\n",
      "genres = dict()\n",
      "filename = './genres.csv'\n",
      "with open(filename, 'r') as f:\n",
      "    f.readline\n",
      "    for line in f:\n",
      "        line = line.strip().split(',')\n",
      "        id_ = line[0]\n",
      "        url_ = line[1]\n",
      "        genres[url_] = id_\n",
      "        \n",
      "# r_authors = dict()\n",
      "# filename = './r_authors.csv'\n",
      "# with open(filename, 'rb') as f:\n",
      "#     f.readline\n",
      "#     for line in f:\n",
      "#         line = line.strip().split(',')\n",
      "#         id_ = line[0]\n",
      "#         try:\n",
      "#             r_author_ = line[1][1:-1]\n",
      "#         except:\n",
      "#             print (line)\n",
      "#             exit(1)\n",
      "#         r_authors[r_author_] = id_\n",
      "\n",
      "outlist = []\n",
      "# for key in authors:\n",
      "#     print (key, authors[key])\n",
      "for book_info in all_info:\n",
      "    current_book = book_info['url']\n",
      "    current_genres = book_info['genres']\n",
      "    genre_ids = []\n",
      "    for genre in current_genres:\n",
      "        found = True\n",
      "        try:\n",
      "            val(genre)\n",
      "            uri = rdflib.term.URIRef(genre)\n",
      "            genre_id = genres[fixurl(uri)]\n",
      "        except:\n",
      "            found = False\n",
      "        if found:\n",
      "            genre_ids.append(genre_id)\n",
      "    if len(genre_ids) > 0:\n",
      "        book_id = books[current_book]\n",
      "        for id_ in genre_ids:\n",
      "            outlist.append((book_id, id_))"
     ],
     "language": "python",
     "metadata": {},
     "outputs": [],
     "prompt_number": 48
    },
    {
     "cell_type": "code",
     "collapsed": false,
     "input": [
      "# print (outlist)"
     ],
     "language": "python",
     "metadata": {},
     "outputs": [],
     "prompt_number": 53
    },
    {
     "cell_type": "code",
     "collapsed": false,
     "input": [
      "filename = './book_genre.csv'\n",
      "with open(filename, 'w') as f:\n",
      "    f.write('book_id,genre_id\\n')\n",
      "    for book_id, genre_id in outlist:\n",
      "        f.write(book_id+','+genre_id+'\\n')"
     ],
     "language": "python",
     "metadata": {},
     "outputs": [],
     "prompt_number": 54
    },
    {
     "cell_type": "code",
     "collapsed": false,
     "input": [],
     "language": "python",
     "metadata": {},
     "outputs": []
    },
    {
     "cell_type": "code",
     "collapsed": false,
     "input": [
      "import os\n",
      "from os import path\n",
      "\n",
      "for i in range(len(all_info)):\n",
      "    book_info = all_info[i]\n",
      "    book_id = books[fixurl(book_info['url'])]\n",
      "    abss = book_info['abstracts']\n",
      "    if len(abss) > 0:\n",
      "        if not path.isdir('./abstracts/'+book_id):\n",
      "            os.makedirs('./abstracts/'+book_id)\n",
      "        for i in range(len(abss)):\n",
      "            filename = './abstracts/'+book_id+'/'+str(i)\n",
      "            with open(filename, 'wb') as f:\n",
      "                f.write(abss[i].encode('utf8'))            \n",
      "\n",
      "    "
     ],
     "language": "python",
     "metadata": {},
     "outputs": [],
     "prompt_number": 63
    }
   ],
   "metadata": {}
  }
 ]
}