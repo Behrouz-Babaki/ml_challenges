{
 "metadata": {
  "name": "",
  "signature": "sha256:e063f77293d6c03a28cf0f9fb8d57e049f828e024d7e60a7cd77ab7fb8eb7c19"
 },
 "nbformat": 3,
 "nbformat_minor": 0,
 "worksheets": [
  {
   "cells": [
    {
     "cell_type": "code",
     "collapsed": false,
     "input": [
      "import urlparse\n",
      "import urllib\n",
      "\n",
      "def fixurl(url):\n",
      "    # turn string into unicode\n",
      "    if not isinstance(url,unicode):\n",
      "        url = url.decode('utf8')\n",
      "\n",
      "    # parse it\n",
      "    parsed = urlparse.urlsplit(url)\n",
      "\n",
      "    # divide the netloc further\n",
      "    userpass,at,hostport = parsed.netloc.rpartition('@')\n",
      "    user,colon1,pass_ = userpass.partition(':')\n",
      "    host,colon2,port = hostport.partition(':')\n",
      "\n",
      "    # encode each component\n",
      "    scheme = parsed.scheme.encode('utf8')\n",
      "    user = urllib.quote(user.encode('utf8'))\n",
      "    colon1 = colon1.encode('utf8')\n",
      "    pass_ = urllib.quote(pass_.encode('utf8'))\n",
      "    at = at.encode('utf8')\n",
      "    host = host.encode('idna')\n",
      "    colon2 = colon2.encode('utf8')\n",
      "    port = port.encode('utf8')\n",
      "    path = '/'.join(  # could be encoded slashes!\n",
      "        urllib.quote(urllib.unquote(pce).encode('utf8'),'')\n",
      "        for pce in parsed.path.split('/')\n",
      "    )\n",
      "    query = urllib.quote(urllib.unquote(parsed.query).encode('utf8'),'=&?/')\n",
      "    fragment = urllib.quote(urllib.unquote(parsed.fragment).encode('utf8'))\n",
      "\n",
      "    # put it back together\n",
      "    netloc = ''.join((user,colon1,pass_,at,host,colon2,port))\n",
      "    return urlparse.urlunsplit((scheme,netloc,path,query,fragment))"
     ],
     "language": "python",
     "metadata": {},
     "outputs": [],
     "prompt_number": 8
    },
    {
     "cell_type": "code",
     "collapsed": false,
     "input": [
      "from langdetect import detect\n",
      "from rdflib import URIRef\n",
      "from time import sleep\n",
      "import urllib2\n",
      "\n",
      "filename = '../data/items_books.dat'\n",
      "problematic = [u'http://dbpedia.org/resource/The_Adventures_of_Tintin']\n",
      "\n",
      "books = []\n",
      "with open(filename, 'r') as f:\n",
      "    f.readline()\n",
      "    for line in f:\n",
      "        id_, type_ , entity_ = line.strip().split()\n",
      "        if type_ == 'book':\n",
      "            title = entity_.decode('latin-1')\n",
      "            if not fixurl(title) in problematic:\n",
      "                books.append((id_, title))\n",
      "            \n",
      "def get_info(book):\n",
      "    id = book[0]\n",
      "    url = book[1]\n",
      "    g = rdflib.Graph()\n",
      "    print fixurl(url)\n",
      "    done = False\n",
      "    while not done:\n",
      "        try:\n",
      "            result = g.parse(fixurl(url))\n",
      "        except urllib2.HTTPError:\n",
      "            sleep(0.5)\n",
      "        else:\n",
      "            authors = None\n",
      "            genres = None\n",
      "            abstracts = None            \n",
      "            authors = [unicode(author) for author in g.objects(URIRef(url), URIRef(u'http://dbpedia.org/property/author'))]\n",
      "            genres = [unicode(genre) for genre in g.objects(URIRef(url), URIRef(u'http://dbpedia.org/property/genre'))]\n",
      "            abstracts = [abstract for abstract in g.objects(URIRef(url), URIRef(u'http://dbpedia.org/ontology/abstract'))]\n",
      "#                          if len(abstract) > 10 and detect(unicode(abstract))=='en']\n",
      "#             abstract = None\n",
      "#             if len(abstracts) > 0:\n",
      "#                 abstract = abstracts[0]\n",
      "            done = True\n",
      "\n",
      "    return (authors, genres, abstracts)\n",
      "\n",
      "\n",
      "# all_info = []\n",
      "# for book in books:\n",
      "#     book_info = dict()\n",
      "#     info = get_info(book)\n",
      "#     book_info['id'] = book[0]\n",
      "#     book_info['url'] = book[1]\n",
      "#     book_info['authors'] = info[0]\n",
      "#     book_info['genres'] = info[1]\n",
      "#     book_info['abstracts'] = info[2]\n",
      "#     all_info.append(book_info)\n",
      "# pickle.dump(all_info, open('all.pkl', 'w'))\n"
     ],
     "language": "python",
     "metadata": {},
     "outputs": [],
     "prompt_number": 9
    },
    {
     "cell_type": "code",
     "collapsed": false,
     "input": [
      "import rdflib\n",
      "book_name = 'http://dbpedia.org/resource/One_Hundred_Years_of_Solitude'\n",
      "authors, genres, abstracts = get_info((0, book_name))\n",
      "print authors[0].n3()\n",
      "print genres"
     ],
     "language": "python",
     "metadata": {},
     "outputs": [
      {
       "ename": "AttributeError",
       "evalue": "'unicode' object has no attribute 'n3'",
       "output_type": "pyerr",
       "traceback": [
        "\u001b[0;31m---------------------------------------------------------------------------\u001b[0m\n\u001b[0;31mAttributeError\u001b[0m                            Traceback (most recent call last)",
        "\u001b[0;32m<ipython-input-15-8f81da3d0d9f>\u001b[0m in \u001b[0;36m<module>\u001b[0;34m()\u001b[0m\n\u001b[1;32m      2\u001b[0m \u001b[0mbook_name\u001b[0m \u001b[0;34m=\u001b[0m \u001b[0;34m'http://dbpedia.org/resource/One_Hundred_Years_of_Solitude'\u001b[0m\u001b[0;34m\u001b[0m\u001b[0m\n\u001b[1;32m      3\u001b[0m \u001b[0mauthors\u001b[0m\u001b[0;34m,\u001b[0m \u001b[0mgenres\u001b[0m\u001b[0;34m,\u001b[0m \u001b[0mabstracts\u001b[0m \u001b[0;34m=\u001b[0m \u001b[0mget_info\u001b[0m\u001b[0;34m(\u001b[0m\u001b[0;34m(\u001b[0m\u001b[0;36m0\u001b[0m\u001b[0;34m,\u001b[0m \u001b[0mbook_name\u001b[0m\u001b[0;34m)\u001b[0m\u001b[0;34m)\u001b[0m\u001b[0;34m\u001b[0m\u001b[0m\n\u001b[0;32m----> 4\u001b[0;31m \u001b[0;32mprint\u001b[0m \u001b[0mauthors\u001b[0m\u001b[0;34m[\u001b[0m\u001b[0;36m0\u001b[0m\u001b[0;34m]\u001b[0m\u001b[0;34m.\u001b[0m\u001b[0mn3\u001b[0m\u001b[0;34m(\u001b[0m\u001b[0;34m)\u001b[0m\u001b[0;34m\u001b[0m\u001b[0m\n\u001b[0m\u001b[1;32m      5\u001b[0m \u001b[0;32mprint\u001b[0m \u001b[0mgenres\u001b[0m\u001b[0;34m\u001b[0m\u001b[0m\n",
        "\u001b[0;31mAttributeError\u001b[0m: 'unicode' object has no attribute 'n3'"
       ]
      },
      {
       "output_type": "stream",
       "stream": "stdout",
       "text": [
        "http://dbpedia.org/resource/One_Hundred_Years_of_Solitude\n"
       ]
      }
     ],
     "prompt_number": 15
    }
   ],
   "metadata": {}
  }
 ]
}