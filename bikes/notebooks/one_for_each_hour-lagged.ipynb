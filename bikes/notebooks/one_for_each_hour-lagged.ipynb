{
 "metadata": {
  "name": "",
  "signature": "sha256:4a53b7771a55e4bb271a1f313041dede1157a797641bc4f4b1b20b688f781ff9"
 },
 "nbformat": 3,
 "nbformat_minor": 0,
 "worksheets": [
  {
   "cells": [
    {
     "cell_type": "code",
     "collapsed": false,
     "input": [
      "import numpy as np\n",
      "import pandas as pd\n",
      "from sklearn.ensemble import RandomForestRegressor\n",
      "\n",
      "def get_features(data):\n",
      "    return data[['season',\n",
      "                 'holiday',\n",
      "                 'workingday',\n",
      "                 'weather',\n",
      "                 'temp',\n",
      "                 'atemp',\n",
      "                 'humidity',\n",
      "                 'windspeed']]\n",
      "\n",
      "def update_df(data):\n",
      "    dt = pd.DatetimeIndex(data['datetime'])\n",
      "    data['hour'] = dt.hour\n",
      "    data['month'] = dt.month\n",
      "    data['weekday'] = dt.weekday\n",
      "\n",
      "def erro(actual, predicted):\n",
      "    num = len(actual)\n",
      "    err = sum([(np.log(predicted[i]+1)-np.log(actual[i]+1))**2 \n",
      "               for i in range(num)])\n",
      "    err /= num\n",
      "    err = np.sqrt(err)\n",
      "    return err"
     ],
     "language": "python",
     "metadata": {},
     "outputs": [],
     "prompt_number": 1
    },
    {
     "cell_type": "code",
     "collapsed": false,
     "input": [
      "def pred(model, data):\n",
      "    predictions = np.array(model.predict(np.array(get_features(data))))\n",
      "    dt = data['datetime']\n",
      "    predictions = pd.Series(predictions, index=dt.index)\n",
      "    res = pd.concat([dt, predictions], axis=1)\n",
      "    res.columns=['datetime', 'count']\n",
      "    return res\n",
      "\n",
      "train = pd.read_csv('../train.csv', parse_dates=['datetime'])\n",
      "dt = pd.DatetimeIndex(train['datetime']).day\n",
      "intest = train[dt>15]\n",
      "train = train[dt<=15]\n",
      "#test = pd.read_csv('../test.csv', parse_dates=['datetime'])\n",
      "update_df(train)\n",
      "update_df(intest)\n",
      "#update_df(test)\n",
      "\n",
      "inresults = pd.DataFrame(columns=['datetime', 'count'])\n",
      "#results = pd.DataFrame(columns=['datetime', 'count'])\n",
      "for hour , intest_subset in intest.groupby('hour'):\n",
      "    train_subset = train[train['hour']==hour]\n",
      "    #intest_subset = intest[intest['hour']==hour]\n",
      "    model = RandomForestRegressor(n_estimators=100)\n",
      "    model.fit(np.array(get_features(train_subset)), np.array(train_subset['count']))\n",
      "    #results = pd.concat([results, pred(model, test_subset)])\n",
      "    inresults = pd.concat([inresults, pred(model, intest_subset)])\n",
      "    \n",
      "inresults['count'] = inresults['count'].astype('int64')\n",
      "mrg = pd.merge(inresults, intest, on='datetime')\n",
      "print erro(mrg['count_x'].values, mrg['count_y'].values)\n",
      "#results['count'] = results['count'].astype('int64')\n",
      "#results = results.sort('datetime')\n",
      "#results.to_csv('../submissions/sixthSubmission.csv', index=False)"
     ],
     "language": "python",
     "metadata": {},
     "outputs": [
      {
       "output_type": "stream",
       "stream": "stdout",
       "text": [
        "0.471410282037\n"
       ]
      }
     ],
     "prompt_number": 38
    },
    {
     "cell_type": "code",
     "collapsed": false,
     "input": [
      "from pandas.tseries.offsets import DateOffset\n",
      "\n",
      "train = pd.read_csv('../train.csv', parse_dates=['datetime'])\n",
      "dt = pd.DatetimeIndex(train['datetime']).day\n",
      "train = train[dt<=15]\n",
      "\n",
      "\n",
      "lag = 3\n",
      "lag += 1\n",
      "for i in range(1, lag):\n",
      "    train['count_%d'%(i)] = pd.Series(['None'], index=train.index)\n",
      "\n",
      "counter = 0\n",
      "for idx in train.index:\n",
      "    current_time = train.ix[idx]['datetime']\n",
      "    l = []\n",
      "    for i in range(1,lag):\n",
      "        prev_day = current_time + DateOffset(days=-i)\n",
      "        bl = (train['datetime']==prev_day)\n",
      "        if bl.any():\n",
      "            train.ix[idx]['count_%d'%(i)] = train[bl]['count'].values[0]\n",
      "    #print l\n",
      "    if counter == 50:\n",
      "        break\n",
      "    counter += 1\n",
      "    "
     ],
     "language": "python",
     "metadata": {},
     "outputs": [
      {
       "output_type": "stream",
       "stream": "stderr",
       "text": [
        "-c:21: SettingWithCopyWarning: \n",
        "A value is trying to be set on a copy of a slice from a DataFrame\n",
        "\n",
        "See the the caveats in the documentation: http://pandas.pydata.org/pandas-docs/stable/indexing.html#indexing-view-versus-copy\n"
       ]
      }
     ],
     "prompt_number": 51
    },
    {
     "cell_type": "code",
     "collapsed": false,
     "input": [
      "from pandas.tseries.offsets import DateOffset\n",
      "\n",
      "train = pd.read_csv('../train.csv', parse_dates=['datetime'])\n",
      "dt = pd.DatetimeIndex(train['datetime']).day\n",
      "train = train[dt<=15]\n",
      "\n",
      "print (train['datetime'] == train['datetime'].ix[0]).any() \n"
     ],
     "language": "python",
     "metadata": {},
     "outputs": [
      {
       "output_type": "stream",
       "stream": "stdout",
       "text": [
        "True\n"
       ]
      }
     ],
     "prompt_number": 36
    },
    {
     "cell_type": "code",
     "collapsed": false,
     "input": [],
     "language": "python",
     "metadata": {},
     "outputs": [],
     "prompt_number": 10
    },
    {
     "cell_type": "code",
     "collapsed": false,
     "input": [],
     "language": "python",
     "metadata": {},
     "outputs": []
    }
   ],
   "metadata": {}
  }
 ]
}