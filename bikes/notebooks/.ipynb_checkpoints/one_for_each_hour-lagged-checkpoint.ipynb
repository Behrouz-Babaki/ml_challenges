{
 "metadata": {
  "name": "",
  "signature": "sha256:4eee1efd5fdf03d34bad15ba1c08f45e23923f35b6bbe00aa260ecfc0710a6eb"
 },
 "nbformat": 3,
 "nbformat_minor": 0,
 "worksheets": [
  {
   "cells": [
    {
     "cell_type": "code",
     "collapsed": false,
     "input": [
      "import numpy as np\n",
      "import pandas as pd\n",
      "from sklearn.ensemble import RandomForestRegressor\n",
      "\n",
      "def get_features(data):\n",
      "    return data[['season',\n",
      "                 'holiday',\n",
      "                 'workingday',\n",
      "                 'weather',\n",
      "                 'temp',\n",
      "                 'atemp',\n",
      "                 'humidity',\n",
      "                 'windspeed']]\n",
      "\n",
      "def update_df(data):\n",
      "    dt = pd.DatetimeIndex(data['datetime'])\n",
      "    data['hour'] = dt.hour\n",
      "    data['month'] = dt.month\n",
      "    data['weekday'] = dt.weekday\n",
      "\n",
      "def erro(actual, predicted):\n",
      "    num = len(actual)\n",
      "    err = sum([(np.log(predicted[i]+1)-np.log(actual[i]+1))**2 \n",
      "               for i in range(num)])\n",
      "    err /= num\n",
      "    err = np.sqrt(err)\n",
      "    return err"
     ],
     "language": "python",
     "metadata": {},
     "outputs": [],
     "prompt_number": 2
    },
    {
     "cell_type": "code",
     "collapsed": false,
     "input": [
      "def pred(model, data):\n",
      "    predictions = np.array(model.predict(np.array(get_features(data))))\n",
      "    dt = data['datetime']\n",
      "    predictions = pd.Series(predictions, index=dt.index)\n",
      "    res = pd.concat([dt, predictions], axis=1)\n",
      "    res.columns=['datetime', 'count']\n",
      "    return res\n",
      "\n",
      "train = pd.read_csv('../train.csv', parse_dates=['datetime'])\n",
      "dt = pd.DatetimeIndex(train['datetime']).day\n",
      "intest = train[dt>15]\n",
      "train = train[dt<=15]\n",
      "#test = pd.read_csv('../test.csv', parse_dates=['datetime'])\n",
      "update_df(train)\n",
      "update_df(intest)\n",
      "#update_df(test)\n",
      "\n",
      "inresults = pd.DataFrame(columns=['datetime', 'count'])\n",
      "#results = pd.DataFrame(columns=['datetime', 'count'])\n",
      "for hour , intest_subset in intest.groupby('hour'):\n",
      "    train_subset = train[train['hour']==hour]\n",
      "    #intest_subset = intest[intest['hour']==hour]\n",
      "    model = RandomForestRegressor(n_estimators=100)\n",
      "    model.fit(np.array(get_features(train_subset)), np.array(train_subset['count']))\n",
      "    #results = pd.concat([results, pred(model, test_subset)])\n",
      "    inresults = pd.concat([inresults, pred(model, intest_subset)])\n",
      "    \n",
      "inresults['count'] = inresults['count'].astype('int64')\n",
      "mrg = pd.merge(inresults, intest, on='datetime')\n",
      "print erro(mrg['count_x'].values, mrg['count_y'].values)\n",
      "#results['count'] = results['count'].astype('int64')\n",
      "#results = results.sort('datetime')\n",
      "#results.to_csv('../submissions/sixthSubmission.csv', index=False)"
     ],
     "language": "python",
     "metadata": {},
     "outputs": [
      {
       "output_type": "stream",
       "stream": "stdout",
       "text": [
        "0.471410282037\n"
       ]
      }
     ],
     "prompt_number": 38
    },
    {
     "cell_type": "code",
     "collapsed": false,
     "input": [
      "train = pd.read_csv('../train.csv', parse_dates=['datetime'])\n",
      "dt = pd.DatetimeIndex(train['datetime']).day\n",
      "train = train[dt<=15]\n",
      "for idx in train.index:\n",
      "    print train.ix[idx]\n",
      "    break\n",
      "    "
     ],
     "language": "python",
     "metadata": {},
     "outputs": []
    },
    {
     "cell_type": "code",
     "collapsed": false,
     "input": [],
     "language": "python",
     "metadata": {},
     "outputs": []
    }
   ],
   "metadata": {}
  }
 ]
}